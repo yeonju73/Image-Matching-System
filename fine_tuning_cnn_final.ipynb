{
  "cells": [
    {
      "cell_type": "markdown",
      "metadata": {
        "id": "view-in-github",
        "colab_type": "text"
      },
      "source": [
        "<a href=\"https://colab.research.google.com/github/yeonju73/Image-Matching-System/blob/main/fine_tuning_cnn_final.ipynb\" target=\"_parent\"><img src=\"https://colab.research.google.com/assets/colab-badge.svg\" alt=\"Open In Colab\"/></a>"
      ]
    },
    {
      "cell_type": "code",
      "execution_count": 1,
      "metadata": {
        "colab": {
          "base_uri": "https://localhost:8080/"
        },
        "id": "EjnHirnG_Ch2",
        "outputId": "e052bcbd-dd11-4875-8ac8-292949927233"
      },
      "outputs": [
        {
          "output_type": "stream",
          "name": "stdout",
          "text": [
            "Requirement already satisfied: torchsummary in /usr/local/lib/python3.11/dist-packages (1.5.1)\n"
          ]
        }
      ],
      "source": [
        "!pip install torchsummary"
      ]
    },
    {
      "cell_type": "code",
      "execution_count": 2,
      "metadata": {
        "colab": {
          "base_uri": "https://localhost:8080/"
        },
        "id": "Gg3lZN2BR-CN",
        "outputId": "207f6d15-7852-457c-93aa-3dd0c2869a2e"
      },
      "outputs": [
        {
          "output_type": "stream",
          "name": "stdout",
          "text": [
            "PyTorch Version:  2.6.0+cu124\n",
            "Torchvision Version:  0.21.0+cu124\n"
          ]
        }
      ],
      "source": [
        "import warnings\n",
        "warnings.filterwarnings(\"ignore\")\n",
        "\n",
        "import torch\n",
        "import torch.nn as nn\n",
        "import torch.optim as optim\n",
        "import torchvision\n",
        "from torchvision import datasets, models, transforms\n",
        "\n",
        "from torchsummary import summary\n",
        "\n",
        "import os\n",
        "import copy\n",
        "import time\n",
        "import numpy as np\n",
        "import matplotlib.pyplot as plt\n",
        "\n",
        "from torch.optim.lr_scheduler import StepLR\n",
        "\n",
        "print(\"PyTorch Version: \",torch.__version__)\n",
        "print(\"Torchvision Version: \",torchvision.__version__)"
      ]
    },
    {
      "cell_type": "markdown",
      "metadata": {
        "id": "2t_aNjhVtdk2"
      },
      "source": [
        "## Prepair Dataset"
      ]
    },
    {
      "cell_type": "code",
      "execution_count": 3,
      "metadata": {
        "colab": {
          "base_uri": "https://localhost:8080/"
        },
        "id": "IZZi5pnKTQQ4",
        "outputId": "f68a3f6f-ffb5-4abd-d119-89d4e871aede"
      },
      "outputs": [
        {
          "output_type": "stream",
          "name": "stdout",
          "text": [
            "Cloning into 'recaptcha-dataset'...\n",
            "remote: Enumerating objects: 11745, done.\u001b[K\n",
            "remote: Counting objects: 100% (3/3), done.\u001b[K\n",
            "remote: Compressing objects: 100% (3/3), done.\u001b[K\n",
            "remote: Total 11745 (delta 0), reused 0 (delta 0), pack-reused 11742 (from 1)\u001b[K\n",
            "Receiving objects: 100% (11745/11745), 395.63 MiB | 12.23 MiB/s, done.\n",
            "Resolving deltas: 100% (1/1), done.\n",
            "Updating files: 100% (11778/11778), done.\n"
          ]
        }
      ],
      "source": [
        "!git clone https://github.com/hbcbh1999/recaptcha-dataset.git"
      ]
    },
    {
      "cell_type": "code",
      "execution_count": 4,
      "metadata": {
        "id": "PZHFOiRVT5ke"
      },
      "outputs": [],
      "source": [
        "!rm -rf ./recaptcha-dataset/Large/Mountain/\n",
        "!rm -rf ./recaptcha-dataset/Large/Other/\n",
        "!rm -rf ./recaptcha-dataset/Large/readme.txt"
      ]
    },
    {
      "cell_type": "markdown",
      "metadata": {
        "id": "SQcQwR6htyXF"
      },
      "source": [
        "ImageFolder structure\n",
        "\n",
        "```\n",
        "data_dir/Bicycle/xxx.png\n",
        "data_dir/Bicycle/xxy.png\n",
        "data_dir/Bicycle/[...]/xxz.png\n",
        "...\n",
        "data_dir/Traffic Light/123.png\n",
        "data_dir/Traffic Light/nsdf3.png\n",
        "data_dir/Traffic Light/[...]/asd932_.png\n",
        "```\n",
        "\n"
      ]
    },
    {
      "cell_type": "code",
      "execution_count": 5,
      "metadata": {
        "colab": {
          "base_uri": "https://localhost:8080/"
        },
        "id": "f-a5q-mm4NDS",
        "outputId": "505c1ecb-c72b-4bd7-9721-27b42319e092"
      },
      "outputs": [
        {
          "output_type": "stream",
          "name": "stdout",
          "text": [
            "Initializing Datasets and Dataloaders...\n",
            "Number of training data: 8233\n",
            "Number of validation data: 2059\n"
          ]
        }
      ],
      "source": [
        "data_dir = \"./recaptcha-dataset/Large\"\n",
        "class_names = ['Bicycle', 'Bridge', 'Bus', 'Car',\n",
        "               'Chimney', 'Crosswalk', 'Hydrant',\n",
        "               'Motorcycle', 'Palm', 'Traffic Light']\n",
        "\n",
        "input_size = 224\n",
        "batch_size = 32\n",
        "\n",
        "# Data augmentation and normalization for training\n",
        "# Just normalization for validation\n",
        "data_transforms = transforms.Compose([\n",
        "        transforms.ToTensor(),\n",
        "        transforms.RandomResizedCrop(input_size),\n",
        "        transforms.RandomHorizontalFlip(),\n",
        "        transforms.Normalize([0.485, 0.456, 0.406], [0.229, 0.224, 0.225])\n",
        "    ])\n",
        "\n",
        "print(\"Initializing Datasets and Dataloaders...\")\n",
        "\n",
        "image_datasets = datasets.ImageFolder(data_dir, data_transforms)  # your dataset\n",
        "num_data = len(image_datasets)\n",
        "indices = np.arange(num_data)\n",
        "np.random.shuffle(indices)\n",
        "\n",
        "train_size = int(num_data*0.8) # 80 퍼센트는 학습, 20 퍼센트는 검증\n",
        "train_indices = indices[:train_size]\n",
        "val_indices = indices[train_size:]\n",
        "train_set = torch.utils.data.Subset(image_datasets, train_indices)\n",
        "val_set = torch.utils.data.Subset(image_datasets, val_indices)\n",
        "\n",
        "print('Number of training data:', len(train_set))\n",
        "print('Number of validation data:', len(val_set))\n",
        "\n",
        "dataloaders = {'train': torch.utils.data.DataLoader(train_set, batch_size=batch_size, shuffle=True, num_workers=4),\n",
        "                 'val': torch.utils.data.DataLoader(val_set, batch_size=batch_size, shuffle=True, num_workers=4)}"
      ]
    },
    {
      "cell_type": "code",
      "execution_count": 6,
      "metadata": {
        "id": "NjtPEI637SS6"
      },
      "outputs": [],
      "source": [
        "def imshow(imgs, title=None):\n",
        "    \"\"\"Display image for Tensor.\"\"\"\n",
        "    imgs = imgs.numpy().transpose((1, 2, 0))\n",
        "    mean = np.array([0.485, 0.456, 0.406])\n",
        "    std = np.array([0.229, 0.224, 0.225])\n",
        "    imgs = std * imgs + mean\n",
        "    imgs = np.clip(imgs, 0, 1)\n",
        "    plt.imshow(imgs)\n",
        "    if title is not None:\n",
        "        plt.title(title)"
      ]
    },
    {
      "cell_type": "code",
      "execution_count": 7,
      "metadata": {
        "colab": {
          "base_uri": "https://localhost:8080/",
          "height": 181
        },
        "id": "HVjOugffCZx5",
        "outputId": "ece60b5a-cb64-4ba1-94a8-d7c5b56409c5"
      },
      "outputs": [
        {
          "output_type": "stream",
          "name": "stdout",
          "text": [
            "inputs.shape: torch.Size([32, 3, 224, 224])\n",
            "labels.shape: torch.Size([32])\n"
          ]
        },
        {
          "output_type": "display_data",
          "data": {
            "text/plain": [
              "<Figure size 640x480 with 1 Axes>"
            ],
            "image/png": "[encoded data removed]"
          },
          "metadata": {}
        }
      ],
      "source": [
        "# Get a batch of training data\n",
        "inputs, labels = next(iter(dataloaders['train']))\n",
        "print(\"inputs.shape:\", inputs.shape)\n",
        "print(\"labels.shape:\", labels.shape)\n",
        "\n",
        "# Make a grid from batch\n",
        "out = torchvision.utils.make_grid(inputs[:8])\n",
        "\n",
        "imshow(out, title=[class_names[x] for x in labels[:8]])"
      ]
    },
    {
      "cell_type": "code",
      "execution_count": 8,
      "metadata": {
        "colab": {
          "base_uri": "https://localhost:8080/",
          "height": 181
        },
        "id": "159TxegOCeln",
        "outputId": "7048033f-c83b-4122-cd91-54359138ab23"
      },
      "outputs": [
        {
          "output_type": "stream",
          "name": "stdout",
          "text": [
            "inputs.shape: torch.Size([32, 3, 224, 224])\n",
            "labels.shape: torch.Size([32])\n"
          ]
        },
        {
          "output_type": "display_data",
          "data": {
            "text/plain": [
              "<Figure size 640x480 with 1 Axes>"
            ],
            "image/png": "[encoded data removed]"
          },
          "metadata": {}
        }
      ],
      "source": [
        "# Get a batch of validation data\n",
        "inputs, labels = next(iter(dataloaders['val']))\n",
        "print(\"inputs.shape:\", inputs.shape)\n",
        "print(\"labels.shape:\", labels.shape)\n",
        "\n",
        "# Make a grid from batch\n",
        "out = torchvision.utils.make_grid(inputs[:8])\n",
        "\n",
        "imshow(out, title=[class_names[x] for x in labels[:8]])"
      ]
    },
    {
      "cell_type": "markdown",
      "metadata": {
        "id": "H5HM_CPWCzF9"
      },
      "source": [
        "## Build model"
      ]
    },
    {
      "cell_type": "markdown",
      "metadata": {
        "id": "RmfQKsLBD3UM"
      },
      "source": [
        "### ResNet from scratch"
      ]
    },
    {
      "cell_type": "markdown",
      "metadata": {
        "id": "fm1-PqFBOhRC"
      },
      "source": [
        "![resnet](https://pytorch.org/assets/images/resnet.png)"
      ]
    },
    {
      "cell_type": "code",
      "execution_count": 9,
      "metadata": {
        "id": "WIkxG-ZuD8v8"
      },
      "outputs": [],
      "source": [
        "class Block(nn.Module):\n",
        "\n",
        "    def __init__(self, in_channels, out_channels, identity_downsample=None, stride=1):\n",
        "        super(Block, self).__init__()\n",
        "        self.conv1 = nn.Conv2d(in_channels, out_channels, kernel_size=3, stride=stride, padding=1, bias=False)\n",
        "        self.bn1 = nn.BatchNorm2d(out_channels)\n",
        "        self.conv2 = nn.Conv2d(out_channels, out_channels, kernel_size=3, stride=1, padding=1, bias=False)\n",
        "        self.bn2 = nn.BatchNorm2d(out_channels)\n",
        "        self.relu = nn.ReLU()\n",
        "        self.identity_downsample = identity_downsample\n",
        "\n",
        "    def forward(self, x):\n",
        "        identity = x\n",
        "        x = self.conv1(x)\n",
        "        x = self.bn1(x)\n",
        "        x = self.relu(x)\n",
        "        x = self.conv2(x)\n",
        "        x = self.bn2(x)\n",
        "        if self.identity_downsample is not None:\n",
        "            identity = self.identity_downsample(identity)\n",
        "        x += identity\n",
        "        x = self.relu(x)\n",
        "        return x"
      ]
    },
    {
      "cell_type": "code",
      "execution_count": 10,
      "metadata": {
        "id": "ZdGXST_OQD_p"
      },
      "outputs": [],
      "source": [
        "class ResNet_18(nn.Module):\n",
        "\n",
        "    def __init__(self, image_channels, num_classes):\n",
        "\n",
        "        super(ResNet_18, self).__init__()\n",
        "        self.in_channels = 64\n",
        "        self.conv1 = nn.Conv2d(image_channels, 64, kernel_size=7, stride=2, padding=3, bias=False)\n",
        "        self.bn1 = nn.BatchNorm2d(64)\n",
        "        self.relu = nn.ReLU()\n",
        "        self.maxpool = nn.MaxPool2d(kernel_size=3, stride=2, padding=1)\n",
        "\n",
        "        #resnet layers -> 각각 4개씩 선언?\n",
        "        self.layer1 = self.__make_layer(64, 64, stride=1)\n",
        "        self.layer2 = self.__make_layer(64, 128, stride=2)\n",
        "        self.layer3 = self.__make_layer(128, 256, stride=2)\n",
        "        self.layer4 = self.__make_layer(256, 512, stride=2)\n",
        "        self.layer5 = self.__make_layer(512, 1024, stride=2)\n",
        "\n",
        "        self.avgpool = nn.AdaptiveAvgPool2d((1, 1))\n",
        "        self.dropout = nn.Dropout(p=0.5)              # ← Dropout 추가\n",
        "        self.fc = nn.Linear(1024, num_classes)\n",
        "\n",
        "    def __make_layer(self, in_channels, out_channels, stride):\n",
        "\n",
        "        identity_downsample = None\n",
        "        if stride != 1:\n",
        "            identity_downsample = self.identity_downsample(in_channels, out_channels)\n",
        "\n",
        "        return nn.Sequential(\n",
        "            Block(in_channels, out_channels, identity_downsample=identity_downsample, stride=stride),\n",
        "            Block(out_channels, out_channels)\n",
        "        )\n",
        "\n",
        "    def forward(self, x):\n",
        "\n",
        "        x = self.conv1(x)\n",
        "        x = self.bn1(x)\n",
        "        x = self.relu(x)\n",
        "        x = self.maxpool(x)\n",
        "\n",
        "        # 16 개 레이어 통과\n",
        "        x = self.layer1(x)\n",
        "        x = self.layer2(x)\n",
        "        x = self.layer3(x)\n",
        "        x = self.layer4(x)\n",
        "        x = self.layer5(x)\n",
        "\n",
        "        x = self.avgpool(x)\n",
        "        x = x.view(x.shape[0], -1)\n",
        "        x = self.dropout(x)\n",
        "        x = self.fc(x)\n",
        "        return x\n",
        "\n",
        "    def identity_downsample(self, in_channels, out_channels):\n",
        "\n",
        "        # feature 맵 사이즈를 동일하게 줄여줌\n",
        "        return nn.Sequential(\n",
        "            nn.Conv2d(in_channels, out_channels, kernel_size=1, stride=2, bias=False),\n",
        "            nn.BatchNorm2d(out_channels)\n",
        "        )"
      ]
    },
    {
      "cell_type": "code",
      "execution_count": 11,
      "metadata": {
        "colab": {
          "base_uri": "https://localhost:8080/"
        },
        "id": "hZe9KMhRSSJi",
        "outputId": "81c2fffd-1cbb-4302-bb29-dc95ef4881a0"
      },
      "outputs": [
        {
          "output_type": "stream",
          "name": "stdout",
          "text": [
            "----------------------------------------------------------------\n",
            "        Layer (type)               Output Shape         Param #\n",
            "================================================================\n",
            "            Conv2d-1         [-1, 64, 112, 112]           9,408\n",
            "       BatchNorm2d-2         [-1, 64, 112, 112]             128\n",
            "              ReLU-3         [-1, 64, 112, 112]               0\n",
            "         MaxPool2d-4           [-1, 64, 56, 56]               0\n",
            "            Conv2d-5           [-1, 64, 56, 56]          36,864\n",
            "       BatchNorm2d-6           [-1, 64, 56, 56]             128\n",
            "              ReLU-7           [-1, 64, 56, 56]               0\n",
            "            Conv2d-8           [-1, 64, 56, 56]          36,864\n",
            "       BatchNorm2d-9           [-1, 64, 56, 56]             128\n",
            "             ReLU-10           [-1, 64, 56, 56]               0\n",
            "            Block-11           [-1, 64, 56, 56]               0\n",
            "           Conv2d-12           [-1, 64, 56, 56]          36,864\n",
            "      BatchNorm2d-13           [-1, 64, 56, 56]             128\n",
            "             ReLU-14           [-1, 64, 56, 56]               0\n",
            "           Conv2d-15           [-1, 64, 56, 56]          36,864\n",
            "      BatchNorm2d-16           [-1, 64, 56, 56]             128\n",
            "             ReLU-17           [-1, 64, 56, 56]               0\n",
            "            Block-18           [-1, 64, 56, 56]               0\n",
            "           Conv2d-19          [-1, 128, 28, 28]          73,728\n",
            "      BatchNorm2d-20          [-1, 128, 28, 28]             256\n",
            "             ReLU-21          [-1, 128, 28, 28]               0\n",
            "           Conv2d-22          [-1, 128, 28, 28]         147,456\n",
            "      BatchNorm2d-23          [-1, 128, 28, 28]             256\n",
            "           Conv2d-24          [-1, 128, 28, 28]           8,192\n",
            "      BatchNorm2d-25          [-1, 128, 28, 28]             256\n",
            "             ReLU-26          [-1, 128, 28, 28]               0\n",
            "            Block-27          [-1, 128, 28, 28]               0\n",
            "           Conv2d-28          [-1, 128, 28, 28]         147,456\n",
            "      BatchNorm2d-29          [-1, 128, 28, 28]             256\n",
            "             ReLU-30          [-1, 128, 28, 28]               0\n",
            "           Conv2d-31          [-1, 128, 28, 28]         147,456\n",
            "      BatchNorm2d-32          [-1, 128, 28, 28]             256\n",
            "             ReLU-33          [-1, 128, 28, 28]               0\n",
            "            Block-34          [-1, 128, 28, 28]               0\n",
            "           Conv2d-35          [-1, 256, 14, 14]         294,912\n",
            "      BatchNorm2d-36          [-1, 256, 14, 14]             512\n",
            "             ReLU-37          [-1, 256, 14, 14]               0\n",
            "           Conv2d-38          [-1, 256, 14, 14]         589,824\n",
            "      BatchNorm2d-39          [-1, 256, 14, 14]             512\n",
            "           Conv2d-40          [-1, 256, 14, 14]          32,768\n",
            "      BatchNorm2d-41          [-1, 256, 14, 14]             512\n",
            "             ReLU-42          [-1, 256, 14, 14]               0\n",
            "            Block-43          [-1, 256, 14, 14]               0\n",
            "           Conv2d-44          [-1, 256, 14, 14]         589,824\n",
            "      BatchNorm2d-45          [-1, 256, 14, 14]             512\n",
            "             ReLU-46          [-1, 256, 14, 14]               0\n",
            "           Conv2d-47          [-1, 256, 14, 14]         589,824\n",
            "      BatchNorm2d-48          [-1, 256, 14, 14]             512\n",
            "             ReLU-49          [-1, 256, 14, 14]               0\n",
            "            Block-50          [-1, 256, 14, 14]               0\n",
            "           Conv2d-51            [-1, 512, 7, 7]       1,179,648\n",
            "      BatchNorm2d-52            [-1, 512, 7, 7]           1,024\n",
            "             ReLU-53            [-1, 512, 7, 7]               0\n",
            "           Conv2d-54            [-1, 512, 7, 7]       2,359,296\n",
            "      BatchNorm2d-55            [-1, 512, 7, 7]           1,024\n",
            "           Conv2d-56            [-1, 512, 7, 7]         131,072\n",
            "      BatchNorm2d-57            [-1, 512, 7, 7]           1,024\n",
            "             ReLU-58            [-1, 512, 7, 7]               0\n",
            "            Block-59            [-1, 512, 7, 7]               0\n",
            "           Conv2d-60            [-1, 512, 7, 7]       2,359,296\n",
            "      BatchNorm2d-61            [-1, 512, 7, 7]           1,024\n",
            "             ReLU-62            [-1, 512, 7, 7]               0\n",
            "           Conv2d-63            [-1, 512, 7, 7]       2,359,296\n",
            "      BatchNorm2d-64            [-1, 512, 7, 7]           1,024\n",
            "             ReLU-65            [-1, 512, 7, 7]               0\n",
            "            Block-66            [-1, 512, 7, 7]               0\n",
            "           Conv2d-67           [-1, 1024, 4, 4]       4,718,592\n",
            "      BatchNorm2d-68           [-1, 1024, 4, 4]           2,048\n",
            "             ReLU-69           [-1, 1024, 4, 4]               0\n",
            "           Conv2d-70           [-1, 1024, 4, 4]       9,437,184\n",
            "      BatchNorm2d-71           [-1, 1024, 4, 4]           2,048\n",
            "           Conv2d-72           [-1, 1024, 4, 4]         524,288\n",
            "      BatchNorm2d-73           [-1, 1024, 4, 4]           2,048\n",
            "             ReLU-74           [-1, 1024, 4, 4]               0\n",
            "            Block-75           [-1, 1024, 4, 4]               0\n",
            "           Conv2d-76           [-1, 1024, 4, 4]       9,437,184\n",
            "      BatchNorm2d-77           [-1, 1024, 4, 4]           2,048\n",
            "             ReLU-78           [-1, 1024, 4, 4]               0\n",
            "           Conv2d-79           [-1, 1024, 4, 4]       9,437,184\n",
            "      BatchNorm2d-80           [-1, 1024, 4, 4]           2,048\n",
            "             ReLU-81           [-1, 1024, 4, 4]               0\n",
            "            Block-82           [-1, 1024, 4, 4]               0\n",
            "AdaptiveAvgPool2d-83           [-1, 1024, 1, 1]               0\n",
            "          Dropout-84                 [-1, 1024]               0\n",
            "           Linear-85                   [-1, 10]          10,250\n",
            "================================================================\n",
            "Total params: 44,751,434\n",
            "Trainable params: 44,751,434\n",
            "Non-trainable params: 0\n",
            "----------------------------------------------------------------\n",
            "Input size (MB): 0.57\n",
            "Forward/backward pass size (MB): 64.80\n",
            "Params size (MB): 170.71\n",
            "Estimated Total Size (MB): 236.08\n",
            "----------------------------------------------------------------\n"
          ]
        }
      ],
      "source": [
        "model = ResNet_18(image_channels=3, num_classes=10)\n",
        "summary(model, (3, 224, 224), device='cpu')\n",
        "# summary(model, (3, 512, 512), device='cpu')"
      ]
    },
    {
      "cell_type": "markdown",
      "metadata": {
        "id": "uSGb0H0LK4sZ"
      },
      "source": [
        "### Resnet from model zoo"
      ]
    },
    {
      "cell_type": "code",
      "execution_count": 12,
      "metadata": {
        "id": "Gn8XdwsxVFIF"
      },
      "outputs": [],
      "source": [
        "def set_parameter_requires_grad(model, feature_extracting):\n",
        "    if feature_extracting:\n",
        "        for param in model.parameters():\n",
        "            param.requires_grad = False # 파라미터를 학습되지 않게"
      ]
    },
    {
      "cell_type": "code",
      "execution_count": 13,
      "metadata": {
        "id": "C7w5Xp2vVOEg"
      },
      "outputs": [],
      "source": [
        "def initialize_model(model_name, num_classes, feature_extract, use_pretrained=True):\n",
        "    # Initialize these variables which will be set in this if statement. Each of these\n",
        "    #   variables is model specific.\n",
        "    model_ft = None\n",
        "    input_size = 0\n",
        "\n",
        "    if model_name == \"resnet\":\n",
        "        \"\"\" Resnet18\n",
        "        \"\"\"\n",
        "        model_ft = models.resnet18(pretrained=use_pretrained)\n",
        "        set_parameter_requires_grad(model_ft, feature_extract)\n",
        "        num_ftrs = model_ft.fc.in_features\n",
        "        model_ft.fc = nn.Sequential(\n",
        "            nn.Dropout(p=0.5),\n",
        "            nn.Linear(num_ftrs, num_classes)\n",
        "        )\n",
        "        input_size = 224\n",
        "\n",
        "    elif model_name == \"resnet50\":\n",
        "        model_ft = models.resnet50(pretrained=use_pretrained)\n",
        "        set_parameter_requires_grad(model_ft, feature_extract)\n",
        "        num_ftrs = model_ft.fc.in_features\n",
        "        # Dropout + Linear head 추가\n",
        "        model_ft.fc = nn.Sequential(\n",
        "            nn.Dropout(p=0.5),\n",
        "            nn.Linear(num_ftrs, num_classes)\n",
        "        )\n",
        "        input_size = 224\n",
        "\n",
        "    elif model_name == \"alexnet\":\n",
        "        \"\"\" Alexnet\n",
        "        \"\"\"\n",
        "        model_ft = models.alexnet(pretrained=use_pretrained)\n",
        "        set_parameter_requires_grad(model_ft, feature_extract)\n",
        "        num_ftrs = model_ft.classifier[6].in_features\n",
        "        model_ft.classifier[6] = nn.Linear(num_ftrs,num_classes)\n",
        "        input_size = 224\n",
        "\n",
        "    elif model_name == \"vgg\":\n",
        "        \"\"\" VGG11_bn\n",
        "        \"\"\"\n",
        "        model_ft = models.vgg11_bn(pretrained=use_pretrained)\n",
        "        set_parameter_requires_grad(model_ft, feature_extract)\n",
        "        num_ftrs = model_ft.classifier[6].in_features\n",
        "        model_ft.classifier[6] = nn.Linear(num_ftrs,num_classes)\n",
        "        input_size = 224\n",
        "\n",
        "    elif model_name == \"squeezenet\":\n",
        "        \"\"\" Squeezenet\n",
        "        \"\"\"\n",
        "        model_ft = models.squeezenet1_0(pretrained=use_pretrained)\n",
        "        set_parameter_requires_grad(model_ft, feature_extract)\n",
        "        model_ft.classifier[1] = nn.Conv2d(512, num_classes, kernel_size=(1,1), stride=(1,1))\n",
        "        model_ft.num_classes = num_classes\n",
        "        input_size = 224\n",
        "\n",
        "    else:\n",
        "        print(\"Invalid model name, exiting...\")\n",
        "        exit()\n",
        "\n",
        "    return model_ft, input_size"
      ]
    },
    {
      "cell_type": "code",
      "execution_count": 14,
      "metadata": {
        "colab": {
          "base_uri": "https://localhost:8080/"
        },
        "id": "AMlCSruOTLay",
        "outputId": "a144d73b-783a-4b04-95df-6a7d5888b4bb"
      },
      "outputs": [
        {
          "output_type": "stream",
          "name": "stderr",
          "text": [
            "Downloading: \"https://download.pytorch.org/models/resnet18-f37072fd.pth\" to /root/.cache/torch/hub/checkpoints/resnet18-f37072fd.pth\n",
            "100%|██████████| 44.7M/44.7M [00:00<00:00, 164MB/s]\n"
          ]
        },
        {
          "output_type": "stream",
          "name": "stdout",
          "text": [
            "----------------------------------------------------------------\n",
            "        Layer (type)               Output Shape         Param #\n",
            "================================================================\n",
            "            Conv2d-1         [-1, 64, 112, 112]           9,408\n",
            "       BatchNorm2d-2         [-1, 64, 112, 112]             128\n",
            "              ReLU-3         [-1, 64, 112, 112]               0\n",
            "         MaxPool2d-4           [-1, 64, 56, 56]               0\n",
            "            Conv2d-5           [-1, 64, 56, 56]          36,864\n",
            "       BatchNorm2d-6           [-1, 64, 56, 56]             128\n",
            "              ReLU-7           [-1, 64, 56, 56]               0\n",
            "            Conv2d-8           [-1, 64, 56, 56]          36,864\n",
            "       BatchNorm2d-9           [-1, 64, 56, 56]             128\n",
            "             ReLU-10           [-1, 64, 56, 56]               0\n",
            "       BasicBlock-11           [-1, 64, 56, 56]               0\n",
            "           Conv2d-12           [-1, 64, 56, 56]          36,864\n",
            "      BatchNorm2d-13           [-1, 64, 56, 56]             128\n",
            "             ReLU-14           [-1, 64, 56, 56]               0\n",
            "           Conv2d-15           [-1, 64, 56, 56]          36,864\n",
            "      BatchNorm2d-16           [-1, 64, 56, 56]             128\n",
            "             ReLU-17           [-1, 64, 56, 56]               0\n",
            "       BasicBlock-18           [-1, 64, 56, 56]               0\n",
            "           Conv2d-19          [-1, 128, 28, 28]          73,728\n",
            "      BatchNorm2d-20          [-1, 128, 28, 28]             256\n",
            "             ReLU-21          [-1, 128, 28, 28]               0\n",
            "           Conv2d-22          [-1, 128, 28, 28]         147,456\n",
            "      BatchNorm2d-23          [-1, 128, 28, 28]             256\n",
            "           Conv2d-24          [-1, 128, 28, 28]           8,192\n",
            "      BatchNorm2d-25          [-1, 128, 28, 28]             256\n",
            "             ReLU-26          [-1, 128, 28, 28]               0\n",
            "       BasicBlock-27          [-1, 128, 28, 28]               0\n",
            "           Conv2d-28          [-1, 128, 28, 28]         147,456\n",
            "      BatchNorm2d-29          [-1, 128, 28, 28]             256\n",
            "             ReLU-30          [-1, 128, 28, 28]               0\n",
            "           Conv2d-31          [-1, 128, 28, 28]         147,456\n",
            "      BatchNorm2d-32          [-1, 128, 28, 28]             256\n",
            "             ReLU-33          [-1, 128, 28, 28]               0\n",
            "       BasicBlock-34          [-1, 128, 28, 28]               0\n",
            "           Conv2d-35          [-1, 256, 14, 14]         294,912\n",
            "      BatchNorm2d-36          [-1, 256, 14, 14]             512\n",
            "             ReLU-37          [-1, 256, 14, 14]               0\n",
            "           Conv2d-38          [-1, 256, 14, 14]         589,824\n",
            "      BatchNorm2d-39          [-1, 256, 14, 14]             512\n",
            "           Conv2d-40          [-1, 256, 14, 14]          32,768\n",
            "      BatchNorm2d-41          [-1, 256, 14, 14]             512\n",
            "             ReLU-42          [-1, 256, 14, 14]               0\n",
            "       BasicBlock-43          [-1, 256, 14, 14]               0\n",
            "           Conv2d-44          [-1, 256, 14, 14]         589,824\n",
            "      BatchNorm2d-45          [-1, 256, 14, 14]             512\n",
            "             ReLU-46          [-1, 256, 14, 14]               0\n",
            "           Conv2d-47          [-1, 256, 14, 14]         589,824\n",
            "      BatchNorm2d-48          [-1, 256, 14, 14]             512\n",
            "             ReLU-49          [-1, 256, 14, 14]               0\n",
            "       BasicBlock-50          [-1, 256, 14, 14]               0\n",
            "           Conv2d-51            [-1, 512, 7, 7]       1,179,648\n",
            "      BatchNorm2d-52            [-1, 512, 7, 7]           1,024\n",
            "             ReLU-53            [-1, 512, 7, 7]               0\n",
            "           Conv2d-54            [-1, 512, 7, 7]       2,359,296\n",
            "      BatchNorm2d-55            [-1, 512, 7, 7]           1,024\n",
            "           Conv2d-56            [-1, 512, 7, 7]         131,072\n",
            "      BatchNorm2d-57            [-1, 512, 7, 7]           1,024\n",
            "             ReLU-58            [-1, 512, 7, 7]               0\n",
            "       BasicBlock-59            [-1, 512, 7, 7]               0\n",
            "           Conv2d-60            [-1, 512, 7, 7]       2,359,296\n",
            "      BatchNorm2d-61            [-1, 512, 7, 7]           1,024\n",
            "             ReLU-62            [-1, 512, 7, 7]               0\n",
            "           Conv2d-63            [-1, 512, 7, 7]       2,359,296\n",
            "      BatchNorm2d-64            [-1, 512, 7, 7]           1,024\n",
            "             ReLU-65            [-1, 512, 7, 7]               0\n",
            "       BasicBlock-66            [-1, 512, 7, 7]               0\n",
            "AdaptiveAvgPool2d-67            [-1, 512, 1, 1]               0\n",
            "          Dropout-68                  [-1, 512]               0\n",
            "           Linear-69                   [-1, 10]           5,130\n",
            "================================================================\n",
            "Total params: 11,181,642\n",
            "Trainable params: 11,181,642\n",
            "Non-trainable params: 0\n",
            "----------------------------------------------------------------\n",
            "Input size (MB): 0.57\n",
            "Forward/backward pass size (MB): 62.79\n",
            "Params size (MB): 42.65\n",
            "Estimated Total Size (MB): 106.02\n",
            "----------------------------------------------------------------\n"
          ]
        }
      ],
      "source": [
        "# Models to choose from [resnet, alexnet, vgg, squeezenet, densenet, inception]\n",
        "model_name = \"resnet\"\n",
        "\n",
        "num_classes = 10\n",
        "num_epochs = 15\n",
        "\n",
        "# Flag for feature extracting. When False, we finetune the whole model,\n",
        "#   when True we only update the reshaped layer params\n",
        "feature_extract = False # 학습을 할 것이기 때문에\n",
        "\n",
        "# Initialize the model for this run\n",
        "model_ft, input_size = initialize_model(model_name, num_classes, feature_extract, use_pretrained=True)\n",
        "\n",
        "# Print the model we just instantiated\n",
        "summary(model_ft, (3, 224, 224), device='cpu')"
      ]
    },
    {
      "cell_type": "markdown",
      "metadata": {
        "id": "SqloE-dVILSd"
      },
      "source": [
        "## Train model"
      ]
    },
    {
      "cell_type": "code",
      "execution_count": 15,
      "metadata": {
        "id": "BSJUGYaPVDSa"
      },
      "outputs": [],
      "source": [
        "def train_model(model, dataloaders, criterion, optimizer, num_epochs=25):\n",
        "    since = time.time()\n",
        "\n",
        "    val_acc_history = []\n",
        "\n",
        "    best_model_wts = copy.deepcopy(model.state_dict())\n",
        "    best_acc = 0.0\n",
        "\n",
        "    model = model.to(device)\n",
        "    for epoch in range(num_epochs):\n",
        "        print('Epoch {}/{}'.format(epoch, num_epochs - 1))\n",
        "        print('-' * 10)\n",
        "\n",
        "        # Each epoch has a training and validation phase\n",
        "        for phase in ['train', 'val']:\n",
        "            if phase == 'train':\n",
        "                model.train()  # Set model to training mode\n",
        "            else:\n",
        "                model.eval()   # Set model to evaluate mode\n",
        "\n",
        "            running_loss = 0.0\n",
        "            running_corrects = 0\n",
        "\n",
        "            # Iterate over data.\n",
        "            for inputs, labels in dataloaders[phase]:\n",
        "                inputs = inputs.to(device)\n",
        "                labels = labels.to(device)\n",
        "\n",
        "                # zero the parameter gradients\n",
        "                optimizer.zero_grad()\n",
        "\n",
        "                # forward\n",
        "                # track history if only in train\n",
        "                with torch.set_grad_enabled(phase == 'train'):\n",
        "                    # Get model outputs and calculate loss\n",
        "                    outputs = model(inputs)\n",
        "                    loss = criterion(outputs, labels)\n",
        "\n",
        "                    _, preds = torch.max(outputs, 1)\n",
        "\n",
        "                    # backward + optimize only if in training phase\n",
        "                    if phase == 'train':\n",
        "                        loss.backward()\n",
        "                        optimizer.step()\n",
        "\n",
        "                # statistics\n",
        "                running_loss += loss.item() * inputs.size(0)\n",
        "                running_corrects += torch.sum(preds == labels.data)\n",
        "\n",
        "            epoch_loss = running_loss / len(dataloaders[phase].dataset)\n",
        "            epoch_acc = running_corrects.double() / len(dataloaders[phase].dataset)\n",
        "\n",
        "            print('{} Loss: {:.4f} Acc: {:.4f}'.format(phase, epoch_loss, epoch_acc))\n",
        "\n",
        "            # deep copy the model\n",
        "            if phase == 'val' and epoch_acc > best_acc:\n",
        "                best_acc = epoch_acc\n",
        "                best_model_wts = copy.deepcopy(model.state_dict())\n",
        "            if phase == 'val':\n",
        "                val_acc_history.append(epoch_acc)\n",
        "\n",
        "        print()\n",
        "\n",
        "    time_elapsed = time.time() - since\n",
        "    print('Training complete in {:.0f}m {:.0f}s'.format(time_elapsed // 60, time_elapsed % 60))\n",
        "    print('Best val Acc: {:4f}'.format(best_acc))\n",
        "\n",
        "    # load best model weights\n",
        "    model.load_state_dict(best_model_wts)\n",
        "    return model, val_acc_history"
      ]
    },
    {
      "cell_type": "code",
      "execution_count": 16,
      "metadata": {
        "id": "LpyM6S03VXKO"
      },
      "outputs": [],
      "source": [
        "# Detect if we have a GPU available\n",
        "device = torch.device(\"cuda:0\" if torch.cuda.is_available() else \"cpu\")"
      ]
    },
    {
      "cell_type": "code",
      "execution_count": 17,
      "metadata": {
        "colab": {
          "base_uri": "https://localhost:8080/"
        },
        "id": "22iCsSbnVbiN",
        "outputId": "53f64f1f-78aa-4f0a-9bcc-3b4ef2770fee"
      },
      "outputs": [
        {
          "output_type": "stream",
          "name": "stdout",
          "text": [
            "Params to learn:\n",
            "\t conv1.weight\n",
            "\t bn1.weight\n",
            "\t bn1.bias\n",
            "\t layer1.0.conv1.weight\n",
            "\t layer1.0.bn1.weight\n",
            "\t layer1.0.bn1.bias\n",
            "\t layer1.0.conv2.weight\n",
            "\t layer1.0.bn2.weight\n",
            "\t layer1.0.bn2.bias\n",
            "\t layer1.1.conv1.weight\n",
            "\t layer1.1.bn1.weight\n",
            "\t layer1.1.bn1.bias\n",
            "\t layer1.1.conv2.weight\n",
            "\t layer1.1.bn2.weight\n",
            "\t layer1.1.bn2.bias\n",
            "\t layer2.0.conv1.weight\n",
            "\t layer2.0.bn1.weight\n",
            "\t layer2.0.bn1.bias\n",
            "\t layer2.0.conv2.weight\n",
            "\t layer2.0.bn2.weight\n",
            "\t layer2.0.bn2.bias\n",
            "\t layer2.0.downsample.0.weight\n",
            "\t layer2.0.downsample.1.weight\n",
            "\t layer2.0.downsample.1.bias\n",
            "\t layer2.1.conv1.weight\n",
            "\t layer2.1.bn1.weight\n",
            "\t layer2.1.bn1.bias\n",
            "\t layer2.1.conv2.weight\n",
            "\t layer2.1.bn2.weight\n",
            "\t layer2.1.bn2.bias\n",
            "\t layer3.0.conv1.weight\n",
            "\t layer3.0.bn1.weight\n",
            "\t layer3.0.bn1.bias\n",
            "\t layer3.0.conv2.weight\n",
            "\t layer3.0.bn2.weight\n",
            "\t layer3.0.bn2.bias\n",
            "\t layer3.0.downsample.0.weight\n",
            "\t layer3.0.downsample.1.weight\n",
            "\t layer3.0.downsample.1.bias\n",
            "\t layer3.1.conv1.weight\n",
            "\t layer3.1.bn1.weight\n",
            "\t layer3.1.bn1.bias\n",
            "\t layer3.1.conv2.weight\n",
            "\t layer3.1.bn2.weight\n",
            "\t layer3.1.bn2.bias\n",
            "\t layer4.0.conv1.weight\n",
            "\t layer4.0.bn1.weight\n",
            "\t layer4.0.bn1.bias\n",
            "\t layer4.0.conv2.weight\n",
            "\t layer4.0.bn2.weight\n",
            "\t layer4.0.bn2.bias\n",
            "\t layer4.0.downsample.0.weight\n",
            "\t layer4.0.downsample.1.weight\n",
            "\t layer4.0.downsample.1.bias\n",
            "\t layer4.1.conv1.weight\n",
            "\t layer4.1.bn1.weight\n",
            "\t layer4.1.bn1.bias\n",
            "\t layer4.1.conv2.weight\n",
            "\t layer4.1.bn2.weight\n",
            "\t layer4.1.bn2.bias\n",
            "\t fc.1.weight\n",
            "\t fc.1.bias\n"
          ]
        }
      ],
      "source": [
        "params_to_update = model_ft.parameters()\n",
        "print(\"Params to learn:\")\n",
        "if feature_extract:\n",
        "    params_to_update = []\n",
        "    for name,param in model_ft.named_parameters():\n",
        "        if param.requires_grad == True:\n",
        "            params_to_update.append(param)\n",
        "            print(\"\\t\",name)\n",
        "else:\n",
        "    for name,param in model_ft.named_parameters():\n",
        "        if param.requires_grad == True:\n",
        "            print(\"\\t\",name)\n",
        "\n",
        "# Observe that all parameters are being optimized\n",
        "optimizer_ft = optim.SGD(params_to_update, lr=0.0015, momentum=0.9)"
      ]
    },
    {
      "cell_type": "code",
      "execution_count": 18,
      "metadata": {
        "colab": {
          "base_uri": "https://localhost:8080/"
        },
        "id": "QJZ2gUmNejXK",
        "outputId": "fafca7ea-ac8b-40c6-e1fb-1f985d4024ab"
      },
      "outputs": [
        {
          "output_type": "stream",
          "name": "stdout",
          "text": [
            "Epoch 0/14\n",
            "----------\n",
            "train Loss: 1.1937 Acc: 0.6046\n",
            "val Loss: 0.7218 Acc: 0.7712\n",
            "\n",
            "Epoch 1/14\n",
            "----------\n",
            "train Loss: 0.7678 Acc: 0.7475\n",
            "val Loss: 0.6540 Acc: 0.7839\n",
            "\n",
            "Epoch 2/14\n",
            "----------\n",
            "train Loss: 0.6674 Acc: 0.7831\n",
            "val Loss: 0.6042 Acc: 0.7970\n",
            "\n",
            "Epoch 3/14\n",
            "----------\n",
            "train Loss: 0.6174 Acc: 0.7935\n",
            "val Loss: 0.5908 Acc: 0.8062\n",
            "\n",
            "Epoch 4/14\n",
            "----------\n",
            "train Loss: 0.6016 Acc: 0.8008\n",
            "val Loss: 0.5904 Acc: 0.7994\n",
            "\n",
            "Epoch 5/14\n",
            "----------\n",
            "train Loss: 0.5780 Acc: 0.8080\n",
            "val Loss: 0.5266 Acc: 0.8305\n",
            "\n",
            "Epoch 6/14\n",
            "----------\n",
            "train Loss: 0.5498 Acc: 0.8210\n",
            "val Loss: 0.5657 Acc: 0.8184\n",
            "\n",
            "Epoch 7/14\n",
            "----------\n",
            "train Loss: 0.5270 Acc: 0.8272\n",
            "val Loss: 0.5555 Acc: 0.8208\n",
            "\n",
            "Epoch 8/14\n",
            "----------\n",
            "train Loss: 0.5265 Acc: 0.8297\n",
            "val Loss: 0.5588 Acc: 0.8179\n",
            "\n",
            "Epoch 9/14\n",
            "----------\n",
            "train Loss: 0.5003 Acc: 0.8402\n",
            "val Loss: 0.5631 Acc: 0.8242\n",
            "\n",
            "Epoch 10/14\n",
            "----------\n",
            "train Loss: 0.5078 Acc: 0.8341\n",
            "val Loss: 0.5809 Acc: 0.8198\n",
            "\n",
            "Epoch 11/14\n",
            "----------\n",
            "train Loss: 0.4834 Acc: 0.8451\n",
            "val Loss: 0.5581 Acc: 0.8232\n",
            "\n",
            "Epoch 12/14\n",
            "----------\n",
            "train Loss: 0.4583 Acc: 0.8538\n",
            "val Loss: 0.5213 Acc: 0.8412\n",
            "\n",
            "Epoch 13/14\n",
            "----------\n",
            "train Loss: 0.4652 Acc: 0.8478\n",
            "val Loss: 0.5184 Acc: 0.8339\n",
            "\n",
            "Epoch 14/14\n",
            "----------\n",
            "train Loss: 0.4539 Acc: 0.8510\n",
            "val Loss: 0.5410 Acc: 0.8188\n",
            "\n",
            "Training complete in 8m 36s\n",
            "Best val Acc: 0.841185\n"
          ]
        }
      ],
      "source": [
        "# Setup the loss fxn\n",
        "criterion = nn.CrossEntropyLoss()\n",
        "\n",
        "# Train and evaluate\n",
        "model_ft, hist = train_model(model_ft, dataloaders, criterion, optimizer_ft, num_epochs=num_epochs)"
      ]
    },
    {
      "cell_type": "markdown",
      "metadata": {
        "id": "JRaNySNTepkQ"
      },
      "source": [
        "\n",
        "\n",
        "```\n",
        "# 코드로 형식 지정됨\n",
        "```\n",
        "\n",
        "## Save the model & features"
      ]
    },
    {
      "cell_type": "code",
      "execution_count": 36,
      "metadata": {
        "id": "oMVfMNmwhvwL"
      },
      "outputs": [],
      "source": [
        "# 모델의 웨이트만 저장\n",
        "torch.save(model_ft.state_dict(), 'resnet18.pt')"
      ]
    },
    {
      "cell_type": "code",
      "execution_count": 19,
      "metadata": {
        "id": "hkqSDuKtiKc5"
      },
      "outputs": [],
      "source": [
        "torch.save(model_ft, 'resnet18_ft.pt')"
      ]
    },
    {
      "cell_type": "code",
      "source": [
        "from google.colab import drive\n",
        "drive.mount('/content/drive')"
      ],
      "metadata": {
        "id": "MM1yOk54iaAu",
        "outputId": "f3b56783-4976-4b37-d28d-1ce9c539aa44",
        "colab": {
          "base_uri": "https://localhost:8080/"
        }
      },
      "execution_count": 20,
      "outputs": [
        {
          "output_type": "stream",
          "name": "stdout",
          "text": [
            "Mounted at /content/drive\n"
          ]
        }
      ]
    },
    {
      "cell_type": "code",
      "execution_count": 21,
      "metadata": {
        "id": "ak8zAYtSiVID"
      },
      "outputs": [],
      "source": [
        "model_ft = torch.load('resnet18_ft.pt', weights_only=False)\n",
        "modules = list(model_ft.children())[:-1]\n",
        "resnet18_feat = nn.Sequential(*modules)\n",
        "\n",
        "for p in resnet18_feat.parameters():\n",
        "    p.requires_grad = False"
      ]
    },
    {
      "cell_type": "code",
      "execution_count": 22,
      "metadata": {
        "colab": {
          "base_uri": "https://localhost:8080/"
        },
        "id": "a0eMG-3Qo56j",
        "outputId": "89b8c9e1-95db-48ef-b541-6f9ab795c441"
      },
      "outputs": [
        {
          "output_type": "stream",
          "name": "stdout",
          "text": [
            "torch.Size([1, 512, 1, 1])\n",
            "torch.Size([1, 512])\n",
            "<class 'numpy.ndarray'>\n"
          ]
        }
      ],
      "source": [
        "# Test\n",
        "out = resnet18_feat(torch.rand(1, 3, 224, 224).to(device))\n",
        "print(out.shape)\n",
        "\n",
        "out = out.view([-1, 512])\n",
        "print(out.shape)\n",
        "\n",
        "out = out.detach().cpu().numpy()\n",
        "print(type(out))"
      ]
    },
    {
      "cell_type": "code",
      "execution_count": 23,
      "metadata": {
        "id": "xBU3Fus5pQ45"
      },
      "outputs": [],
      "source": [
        "from tqdm import tqdm"
      ]
    },
    {
      "cell_type": "code",
      "execution_count": 24,
      "metadata": {
        "colab": {
          "base_uri": "https://localhost:8080/"
        },
        "id": "EVM28oRGpWAs",
        "outputId": "8691059a-af39-4e64-b1d3-2c54c5f541fe"
      },
      "outputs": [
        {
          "output_type": "stream",
          "name": "stderr",
          "text": [
            "100%|██████████| 258/258 [00:20<00:00, 12.44it/s]\n",
            "100%|██████████| 65/65 [00:04<00:00, 13.00it/s]\n"
          ]
        }
      ],
      "source": [
        "train_features = []\n",
        "train_labels = []\n",
        "val_features = []\n",
        "val_labels = []\n",
        "\n",
        "for inputs, labels in tqdm(dataloaders['train']):\n",
        "  inputs = inputs.to(device)\n",
        "  h = resnet18_feat(inputs)\n",
        "\n",
        "  # Eliminate unnecessary dimensions\n",
        "  h = h.view([-1, 512])\n",
        "\n",
        "  # Move to 'cpu' & change to 'numpy array'\n",
        "  h = h.detach().cpu().numpy()\n",
        "\n",
        "  train_features.append(h)\n",
        "\n",
        "  # labels\n",
        "  train_labels.append(labels.detach().cpu().numpy())\n",
        "\n",
        "for inputs, labels in tqdm(dataloaders['val']):\n",
        "  inputs = inputs.to(device)\n",
        "  h = resnet18_feat(inputs)\n",
        "\n",
        "  # Eliminate unnecessary dimensions\n",
        "  h = h.view([-1, 512])\n",
        "  # Move to 'cpu' & change to 'numpy array'\n",
        "  h = h.detach().cpu().numpy()\n",
        "\n",
        "  val_features.append(h)\n",
        "\n",
        "  # labels\n",
        "  val_labels.append(labels.detach().cpu().numpy())"
      ]
    },
    {
      "cell_type": "code",
      "execution_count": 25,
      "metadata": {
        "colab": {
          "base_uri": "https://localhost:8080/"
        },
        "id": "WdcExFFmqPEE",
        "outputId": "30de4117-f7e5-42e7-a462-93a5b80e59d0"
      },
      "outputs": [
        {
          "output_type": "stream",
          "name": "stdout",
          "text": [
            "Train Features: ((8233, 512))\n",
            "Train Labels: ((8233,))\n",
            "Validation Features: ((2059, 512))\n",
            "Validation Labels: ((2059,))\n"
          ]
        }
      ],
      "source": [
        "train_features = np.concat(train_features, axis=0)\n",
        "train_labels = np.concat(train_labels, axis=0)\n",
        "val_features = np.concat(val_features, axis=0)\n",
        "val_labels = np.concat(val_labels, axis=0)\n",
        "\n",
        "print(f\"Train Features: ({train_features.shape})\")\n",
        "print(f\"Train Labels: ({train_labels.shape})\")\n",
        "print(f\"Validation Features: ({val_features.shape})\")\n",
        "print(f\"Validation Labels: ({val_labels.shape})\")"
      ]
    },
    {
      "cell_type": "markdown",
      "metadata": {
        "id": "H4BNsBLLrbI8"
      },
      "source": [
        "### KNN"
      ]
    },
    {
      "cell_type": "code",
      "execution_count": 26,
      "metadata": {
        "id": "USVIjr_trfW8"
      },
      "outputs": [],
      "source": [
        "from sklearn.neighbors import KNeighborsClassifier\n",
        "from sklearn.metrics import classification_report\n",
        "\n",
        "recaptcha = './recaptcha-dataset/Large/'\n",
        "labels = ['Bicycle','Bridge','Bus','Car','Chimney',\n",
        "          'Crosswalk','Hydrant','Motorcycle','Palm','Traffic Light']"
      ]
    },
    {
      "cell_type": "code",
      "execution_count": 27,
      "metadata": {
        "colab": {
          "base_uri": "https://localhost:8080/",
          "height": 80
        },
        "id": "rYIy0JmBr_38",
        "outputId": "804adcac-feee-45cf-d5f1-3b5007341f39"
      },
      "outputs": [
        {
          "output_type": "execute_result",
          "data": {
            "text/plain": [
              "KNeighborsClassifier()"
            ],
            "text/html": [
              "<style>#sk-container-id-1 {\n",
              "  /* Definition of color scheme common for light and dark mode */\n",
              "  --sklearn-color-text: #000;\n",
              "  --sklearn-color-text-muted: #666;\n",
              "  --sklearn-color-line: gray;\n",
              "  /* Definition of color scheme for unfitted estimators */\n",
              "  --sklearn-color-unfitted-level-0: #fff5e6;\n",
              "  --sklearn-color-unfitted-level-1: #f6e4d2;\n",
              "  --sklearn-color-unfitted-level-2: #ffe0b3;\n",
              "  --sklearn-color-unfitted-level-3: chocolate;\n",
              "  /* Definition of color scheme for fitted estimators */\n",
              "  --sklearn-color-fitted-level-0: #f0f8ff;\n",
              "  --sklearn-color-fitted-level-1: #d4ebff;\n",
              "  --sklearn-color-fitted-level-2: #b3dbfd;\n",
              "  --sklearn-color-fitted-level-3: cornflowerblue;\n",
              "\n",
              "  /* Specific color for light theme */\n",
              "  --sklearn-color-text-on-default-background: var(--sg-text-color, var(--theme-code-foreground, var(--jp-content-font-color1, black)));\n",
              "  --sklearn-color-background: var(--sg-background-color, var(--theme-background, var(--jp-layout-color0, white)));\n",
              "  --sklearn-color-border-box: var(--sg-text-color, var(--theme-code-foreground, var(--jp-content-font-color1, black)));\n",
              "  --sklearn-color-icon: #696969;\n",
              "\n",
              "  @media (prefers-color-scheme: dark) {\n",
              "    /* Redefinition of color scheme for dark theme */\n",
              "    --sklearn-color-text-on-default-background: var(--sg-text-color, var(--theme-code-foreground, var(--jp-content-font-color1, white)));\n",
              "    --sklearn-color-background: var(--sg-background-color, var(--theme-background, var(--jp-layout-color0, #111)));\n",
              "    --sklearn-color-border-box: var(--sg-text-color, var(--theme-code-foreground, var(--jp-content-font-color1, white)));\n",
              "    --sklearn-color-icon: #878787;\n",
              "  }\n",
              "}\n",
              "\n",
              "#sk-container-id-1 {\n",
              "  color: var(--sklearn-color-text);\n",
              "}\n",
              "\n",
              "#sk-container-id-1 pre {\n",
              "  padding: 0;\n",
              "}\n",
              "\n",
              "#sk-container-id-1 input.sk-hidden--visually {\n",
              "  border: 0;\n",
              "  clip: rect(1px 1px 1px 1px);\n",
              "  clip: rect(1px, 1px, 1px, 1px);\n",
              "  height: 1px;\n",
              "  margin: -1px;\n",
              "  overflow: hidden;\n",
              "  padding: 0;\n",
              "  position: absolute;\n",
              "  width: 1px;\n",
              "}\n",
              "\n",
              "#sk-container-id-1 div.sk-dashed-wrapped {\n",
              "  border: 1px dashed var(--sklearn-color-line);\n",
              "  margin: 0 0.4em 0.5em 0.4em;\n",
              "  box-sizing: border-box;\n",
              "  padding-bottom: 0.4em;\n",
              "  background-color: var(--sklearn-color-background);\n",
              "}\n",
              "\n",
              "#sk-container-id-1 div.sk-container {\n",
              "  /* jupyter's `normalize.less` sets `[hidden] { display: none; }`\n",
              "     but bootstrap.min.css set `[hidden] { display: none !important; }`\n",
              "     so we also need the `!important` here to be able to override the\n",
              "     default hidden behavior on the sphinx rendered scikit-learn.org.\n",
              "     See: https://github.com/scikit-learn/scikit-learn/issues/21755 */\n",
              "  display: inline-block !important;\n",
              "  position: relative;\n",
              "}\n",
              "\n",
              "#sk-container-id-1 div.sk-text-repr-fallback {\n",
              "  display: none;\n",
              "}\n",
              "\n",
              "div.sk-parallel-item,\n",
              "div.sk-serial,\n",
              "div.sk-item {\n",
              "  /* draw centered vertical line to link estimators */\n",
              "  background-image: linear-gradient(var(--sklearn-color-text-on-default-background), var(--sklearn-color-text-on-default-background));\n",
              "  background-size: 2px 100%;\n",
              "  background-repeat: no-repeat;\n",
              "  background-position: center center;\n",
              "}\n",
              "\n",
              "/* Parallel-specific style estimator block */\n",
              "\n",
              "#sk-container-id-1 div.sk-parallel-item::after {\n",
              "  content: \"\";\n",
              "  width: 100%;\n",
              "  border-bottom: 2px solid var(--sklearn-color-text-on-default-background);\n",
              "  flex-grow: 1;\n",
              "}\n",
              "\n",
              "#sk-container-id-1 div.sk-parallel {\n",
              "  display: flex;\n",
              "  align-items: stretch;\n",
              "  justify-content: center;\n",
              "  background-color: var(--sklearn-color-background);\n",
              "  position: relative;\n",
              "}\n",
              "\n",
              "#sk-container-id-1 div.sk-parallel-item {\n",
              "  display: flex;\n",
              "  flex-direction: column;\n",
              "}\n",
              "\n",
              "#sk-container-id-1 div.sk-parallel-item:first-child::after {\n",
              "  align-self: flex-end;\n",
              "  width: 50%;\n",
              "}\n",
              "\n",
              "#sk-container-id-1 div.sk-parallel-item:last-child::after {\n",
              "  align-self: flex-start;\n",
              "  width: 50%;\n",
              "}\n",
              "\n",
              "#sk-container-id-1 div.sk-parallel-item:only-child::after {\n",
              "  width: 0;\n",
              "}\n",
              "\n",
              "/* Serial-specific style estimator block */\n",
              "\n",
              "#sk-container-id-1 div.sk-serial {\n",
              "  display: flex;\n",
              "  flex-direction: column;\n",
              "  align-items: center;\n",
              "  background-color: var(--sklearn-color-background);\n",
              "  padding-right: 1em;\n",
              "  padding-left: 1em;\n",
              "}\n",
              "\n",
              "\n",
              "/* Toggleable style: style used for estimator/Pipeline/ColumnTransformer box that is\n",
              "clickable and can be expanded/collapsed.\n",
              "- Pipeline and ColumnTransformer use this feature and define the default style\n",
              "- Estimators will overwrite some part of the style using the `sk-estimator` class\n",
              "*/\n",
              "\n",
              "/* Pipeline and ColumnTransformer style (default) */\n",
              "\n",
              "#sk-container-id-1 div.sk-toggleable {\n",
              "  /* Default theme specific background. It is overwritten whether we have a\n",
              "  specific estimator or a Pipeline/ColumnTransformer */\n",
              "  background-color: var(--sklearn-color-background);\n",
              "}\n",
              "\n",
              "/* Toggleable label */\n",
              "#sk-container-id-1 label.sk-toggleable__label {\n",
              "  cursor: pointer;\n",
              "  display: flex;\n",
              "  width: 100%;\n",
              "  margin-bottom: 0;\n",
              "  padding: 0.5em;\n",
              "  box-sizing: border-box;\n",
              "  text-align: center;\n",
              "  align-items: start;\n",
              "  justify-content: space-between;\n",
              "  gap: 0.5em;\n",
              "}\n",
              "\n",
              "#sk-container-id-1 label.sk-toggleable__label .caption {\n",
              "  font-size: 0.6rem;\n",
              "  font-weight: lighter;\n",
              "  color: var(--sklearn-color-text-muted);\n",
              "}\n",
              "\n",
              "#sk-container-id-1 label.sk-toggleable__label-arrow:before {\n",
              "  /* Arrow on the left of the label */\n",
              "  content: \"▸\";\n",
              "  float: left;\n",
              "  margin-right: 0.25em;\n",
              "  color: var(--sklearn-color-icon);\n",
              "}\n",
              "\n",
              "#sk-container-id-1 label.sk-toggleable__label-arrow:hover:before {\n",
              "  color: var(--sklearn-color-text);\n",
              "}\n",
              "\n",
              "/* Toggleable content - dropdown */\n",
              "\n",
              "#sk-container-id-1 div.sk-toggleable__content {\n",
              "  max-height: 0;\n",
              "  max-width: 0;\n",
              "  overflow: hidden;\n",
              "  text-align: left;\n",
              "  /* unfitted */\n",
              "  background-color: var(--sklearn-color-unfitted-level-0);\n",
              "}\n",
              "\n",
              "#sk-container-id-1 div.sk-toggleable__content.fitted {\n",
              "  /* fitted */\n",
              "  background-color: var(--sklearn-color-fitted-level-0);\n",
              "}\n",
              "\n",
              "#sk-container-id-1 div.sk-toggleable__content pre {\n",
              "  margin: 0.2em;\n",
              "  border-radius: 0.25em;\n",
              "  color: var(--sklearn-color-text);\n",
              "  /* unfitted */\n",
              "  background-color: var(--sklearn-color-unfitted-level-0);\n",
              "}\n",
              "\n",
              "#sk-container-id-1 div.sk-toggleable__content.fitted pre {\n",
              "  /* unfitted */\n",
              "  background-color: var(--sklearn-color-fitted-level-0);\n",
              "}\n",
              "\n",
              "#sk-container-id-1 input.sk-toggleable__control:checked~div.sk-toggleable__content {\n",
              "  /* Expand drop-down */\n",
              "  max-height: 200px;\n",
              "  max-width: 100%;\n",
              "  overflow: auto;\n",
              "}\n",
              "\n",
              "#sk-container-id-1 input.sk-toggleable__control:checked~label.sk-toggleable__label-arrow:before {\n",
              "  content: \"▾\";\n",
              "}\n",
              "\n",
              "/* Pipeline/ColumnTransformer-specific style */\n",
              "\n",
              "#sk-container-id-1 div.sk-label input.sk-toggleable__control:checked~label.sk-toggleable__label {\n",
              "  color: var(--sklearn-color-text);\n",
              "  background-color: var(--sklearn-color-unfitted-level-2);\n",
              "}\n",
              "\n",
              "#sk-container-id-1 div.sk-label.fitted input.sk-toggleable__control:checked~label.sk-toggleable__label {\n",
              "  background-color: var(--sklearn-color-fitted-level-2);\n",
              "}\n",
              "\n",
              "/* Estimator-specific style */\n",
              "\n",
              "/* Colorize estimator box */\n",
              "#sk-container-id-1 div.sk-estimator input.sk-toggleable__control:checked~label.sk-toggleable__label {\n",
              "  /* unfitted */\n",
              "  background-color: var(--sklearn-color-unfitted-level-2);\n",
              "}\n",
              "\n",
              "#sk-container-id-1 div.sk-estimator.fitted input.sk-toggleable__control:checked~label.sk-toggleable__label {\n",
              "  /* fitted */\n",
              "  background-color: var(--sklearn-color-fitted-level-2);\n",
              "}\n",
              "\n",
              "#sk-container-id-1 div.sk-label label.sk-toggleable__label,\n",
              "#sk-container-id-1 div.sk-label label {\n",
              "  /* The background is the default theme color */\n",
              "  color: var(--sklearn-color-text-on-default-background);\n",
              "}\n",
              "\n",
              "/* On hover, darken the color of the background */\n",
              "#sk-container-id-1 div.sk-label:hover label.sk-toggleable__label {\n",
              "  color: var(--sklearn-color-text);\n",
              "  background-color: var(--sklearn-color-unfitted-level-2);\n",
              "}\n",
              "\n",
              "/* Label box, darken color on hover, fitted */\n",
              "#sk-container-id-1 div.sk-label.fitted:hover label.sk-toggleable__label.fitted {\n",
              "  color: var(--sklearn-color-text);\n",
              "  background-color: var(--sklearn-color-fitted-level-2);\n",
              "}\n",
              "\n",
              "/* Estimator label */\n",
              "\n",
              "#sk-container-id-1 div.sk-label label {\n",
              "  font-family: monospace;\n",
              "  font-weight: bold;\n",
              "  display: inline-block;\n",
              "  line-height: 1.2em;\n",
              "}\n",
              "\n",
              "#sk-container-id-1 div.sk-label-container {\n",
              "  text-align: center;\n",
              "}\n",
              "\n",
              "/* Estimator-specific */\n",
              "#sk-container-id-1 div.sk-estimator {\n",
              "  font-family: monospace;\n",
              "  border: 1px dotted var(--sklearn-color-border-box);\n",
              "  border-radius: 0.25em;\n",
              "  box-sizing: border-box;\n",
              "  margin-bottom: 0.5em;\n",
              "  /* unfitted */\n",
              "  background-color: var(--sklearn-color-unfitted-level-0);\n",
              "}\n",
              "\n",
              "#sk-container-id-1 div.sk-estimator.fitted {\n",
              "  /* fitted */\n",
              "  background-color: var(--sklearn-color-fitted-level-0);\n",
              "}\n",
              "\n",
              "/* on hover */\n",
              "#sk-container-id-1 div.sk-estimator:hover {\n",
              "  /* unfitted */\n",
              "  background-color: var(--sklearn-color-unfitted-level-2);\n",
              "}\n",
              "\n",
              "#sk-container-id-1 div.sk-estimator.fitted:hover {\n",
              "  /* fitted */\n",
              "  background-color: var(--sklearn-color-fitted-level-2);\n",
              "}\n",
              "\n",
              "/* Specification for estimator info (e.g. \"i\" and \"?\") */\n",
              "\n",
              "/* Common style for \"i\" and \"?\" */\n",
              "\n",
              ".sk-estimator-doc-link,\n",
              "a:link.sk-estimator-doc-link,\n",
              "a:visited.sk-estimator-doc-link {\n",
              "  float: right;\n",
              "  font-size: smaller;\n",
              "  line-height: 1em;\n",
              "  font-family: monospace;\n",
              "  background-color: var(--sklearn-color-background);\n",
              "  border-radius: 1em;\n",
              "  height: 1em;\n",
              "  width: 1em;\n",
              "  text-decoration: none !important;\n",
              "  margin-left: 0.5em;\n",
              "  text-align: center;\n",
              "  /* unfitted */\n",
              "  border: var(--sklearn-color-unfitted-level-1) 1pt solid;\n",
              "  color: var(--sklearn-color-unfitted-level-1);\n",
              "}\n",
              "\n",
              ".sk-estimator-doc-link.fitted,\n",
              "a:link.sk-estimator-doc-link.fitted,\n",
              "a:visited.sk-estimator-doc-link.fitted {\n",
              "  /* fitted */\n",
              "  border: var(--sklearn-color-fitted-level-1) 1pt solid;\n",
              "  color: var(--sklearn-color-fitted-level-1);\n",
              "}\n",
              "\n",
              "/* On hover */\n",
              "div.sk-estimator:hover .sk-estimator-doc-link:hover,\n",
              ".sk-estimator-doc-link:hover,\n",
              "div.sk-label-container:hover .sk-estimator-doc-link:hover,\n",
              ".sk-estimator-doc-link:hover {\n",
              "  /* unfitted */\n",
              "  background-color: var(--sklearn-color-unfitted-level-3);\n",
              "  color: var(--sklearn-color-background);\n",
              "  text-decoration: none;\n",
              "}\n",
              "\n",
              "div.sk-estimator.fitted:hover .sk-estimator-doc-link.fitted:hover,\n",
              ".sk-estimator-doc-link.fitted:hover,\n",
              "div.sk-label-container:hover .sk-estimator-doc-link.fitted:hover,\n",
              ".sk-estimator-doc-link.fitted:hover {\n",
              "  /* fitted */\n",
              "  background-color: var(--sklearn-color-fitted-level-3);\n",
              "  color: var(--sklearn-color-background);\n",
              "  text-decoration: none;\n",
              "}\n",
              "\n",
              "/* Span, style for the box shown on hovering the info icon */\n",
              ".sk-estimator-doc-link span {\n",
              "  display: none;\n",
              "  z-index: 9999;\n",
              "  position: relative;\n",
              "  font-weight: normal;\n",
              "  right: .2ex;\n",
              "  padding: .5ex;\n",
              "  margin: .5ex;\n",
              "  width: min-content;\n",
              "  min-width: 20ex;\n",
              "  max-width: 50ex;\n",
              "  color: var(--sklearn-color-text);\n",
              "  box-shadow: 2pt 2pt 4pt #999;\n",
              "  /* unfitted */\n",
              "  background: var(--sklearn-color-unfitted-level-0);\n",
              "  border: .5pt solid var(--sklearn-color-unfitted-level-3);\n",
              "}\n",
              "\n",
              ".sk-estimator-doc-link.fitted span {\n",
              "  /* fitted */\n",
              "  background: var(--sklearn-color-fitted-level-0);\n",
              "  border: var(--sklearn-color-fitted-level-3);\n",
              "}\n",
              "\n",
              ".sk-estimator-doc-link:hover span {\n",
              "  display: block;\n",
              "}\n",
              "\n",
              "/* \"?\"-specific style due to the `<a>` HTML tag */\n",
              "\n",
              "#sk-container-id-1 a.estimator_doc_link {\n",
              "  float: right;\n",
              "  font-size: 1rem;\n",
              "  line-height: 1em;\n",
              "  font-family: monospace;\n",
              "  background-color: var(--sklearn-color-background);\n",
              "  border-radius: 1rem;\n",
              "  height: 1rem;\n",
              "  width: 1rem;\n",
              "  text-decoration: none;\n",
              "  /* unfitted */\n",
              "  color: var(--sklearn-color-unfitted-level-1);\n",
              "  border: var(--sklearn-color-unfitted-level-1) 1pt solid;\n",
              "}\n",
              "\n",
              "#sk-container-id-1 a.estimator_doc_link.fitted {\n",
              "  /* fitted */\n",
              "  border: var(--sklearn-color-fitted-level-1) 1pt solid;\n",
              "  color: var(--sklearn-color-fitted-level-1);\n",
              "}\n",
              "\n",
              "/* On hover */\n",
              "#sk-container-id-1 a.estimator_doc_link:hover {\n",
              "  /* unfitted */\n",
              "  background-color: var(--sklearn-color-unfitted-level-3);\n",
              "  color: var(--sklearn-color-background);\n",
              "  text-decoration: none;\n",
              "}\n",
              "\n",
              "#sk-container-id-1 a.estimator_doc_link.fitted:hover {\n",
              "  /* fitted */\n",
              "  background-color: var(--sklearn-color-fitted-level-3);\n",
              "}\n",
              "</style><div id=\"sk-container-id-1\" class=\"sk-top-container\"><div class=\"sk-text-repr-fallback\"><pre>KNeighborsClassifier()</pre><b>In a Jupyter environment, please rerun this cell to show the HTML representation or trust the notebook. <br />On GitHub, the HTML representation is unable to render, please try loading this page with nbviewer.org.</b></div><div class=\"sk-container\" hidden><div class=\"sk-item\"><div class=\"sk-estimator fitted sk-toggleable\"><input class=\"sk-toggleable__control sk-hidden--visually\" id=\"sk-estimator-id-1\" type=\"checkbox\" checked><label for=\"sk-estimator-id-1\" class=\"sk-toggleable__label fitted sk-toggleable__label-arrow\"><div><div>KNeighborsClassifier</div></div><div><a class=\"sk-estimator-doc-link fitted\" rel=\"noreferrer\" target=\"_blank\" href=\"https://scikit-learn.org/1.6/modules/generated/sklearn.neighbors.KNeighborsClassifier.html\">?<span>Documentation for KNeighborsClassifier</span></a><span class=\"sk-estimator-doc-link fitted\">i<span>Fitted</span></span></div></label><div class=\"sk-toggleable__content fitted\"><pre>KNeighborsClassifier()</pre></div> </div></div></div></div>"
            ]
          },
          "metadata": {},
          "execution_count": 27
        }
      ],
      "source": [
        "classifier = KNeighborsClassifier(n_neighbors=5)\n",
        "classifier.fit(train_features, train_labels)"
      ]
    },
    {
      "cell_type": "code",
      "execution_count": 28,
      "metadata": {
        "colab": {
          "base_uri": "https://localhost:8080/"
        },
        "id": "UYOGjXyssHkw",
        "outputId": "41c33f67-69ca-48db-c054-50e5aaad666c"
      },
      "outputs": [
        {
          "output_type": "stream",
          "name": "stdout",
          "text": [
            "               precision    recall  f1-score   support\n",
            "\n",
            "      Bicycle       0.00      0.00      0.00         0\n",
            "       Bridge       0.00      0.00      0.00         0\n",
            "          Bus       0.00      0.00      0.00         0\n",
            "          Car       0.00      0.00      0.00         0\n",
            "      Chimney       0.00      0.00      0.00         0\n",
            "    Crosswalk       0.00      0.00      0.00         0\n",
            "      Hydrant       0.00      0.00      0.00         0\n",
            "   Motorcycle       0.00      0.00      0.00         0\n",
            "         Palm       0.00      0.00      0.00         0\n",
            "Traffic Light       0.00      0.00      0.00         0\n",
            "\n",
            "    micro avg       0.00      0.00      0.00         0\n",
            "    macro avg       0.00      0.00      0.00         0\n",
            " weighted avg       0.00      0.00      0.00         0\n",
            "\n"
          ]
        }
      ],
      "source": [
        "predict_labels = classifier.predict(val_features)\n",
        "print(classification_report(val_labels, predict_labels, labels=labels))"
      ]
    },
    {
      "cell_type": "code",
      "execution_count": 29,
      "metadata": {
        "colab": {
          "base_uri": "https://localhost:8080/"
        },
        "id": "2Cb7py_TsSPy",
        "outputId": "ad0731bc-4815-41f3-f2c3-54748cf64bba"
      },
      "outputs": [
        {
          "output_type": "execute_result",
          "data": {
            "text/plain": [
              "array([3, 3, 5, ..., 8, 3, 5])"
            ]
          },
          "metadata": {},
          "execution_count": 29
        }
      ],
      "source": [
        "predict_labels"
      ]
    },
    {
      "cell_type": "code",
      "execution_count": 30,
      "metadata": {
        "colab": {
          "base_uri": "https://localhost:8080/"
        },
        "id": "6PsbMQqfsUVX",
        "outputId": "91693e95-5038-4a6f-96ab-d88ff6e440ec"
      },
      "outputs": [
        {
          "output_type": "stream",
          "name": "stdout",
          "text": [
            "[[8 3 8 2 3 8 8 2 2 2]\n",
            " [3 3 3 3 3 3 3 3 3 3]]\n",
            "[['Palm', 'Car', 'Palm', 'Bus', 'Car', 'Palm', 'Palm', 'Bus', 'Bus', 'Bus'], ['Car', 'Car', 'Car', 'Car', 'Car', 'Car', 'Car', 'Car', 'Car', 'Car']]\n"
          ]
        }
      ],
      "source": [
        "neigh_ind = classifier.kneighbors(X=val_features, n_neighbors=10, return_distance=False) # Top-10 results\n",
        "neigh_labels = np.array(train_labels)[neigh_ind]\n",
        "print(neigh_labels[:2])\n",
        "\n",
        "# 숫자를 이름으로 변경\n",
        "neigh_label_names = [[labels[idx] for idx in topk] for topk in neigh_labels]\n",
        "print(neigh_label_names[:2])"
      ]
    },
    {
      "cell_type": "markdown",
      "metadata": {
        "id": "qMc0LEcDsiAt"
      },
      "source": []
    },
    {
      "cell_type": "code",
      "source": [
        "# knn_inference.py\n",
        "\n",
        "import os\n",
        "import torch\n",
        "import torch.nn as nn\n",
        "from torchvision import models, transforms\n",
        "from PIL import Image\n",
        "import numpy as np\n",
        "import joblib\n",
        "from sklearn.neighbors import KNeighborsClassifier\n",
        "from tqdm import tqdm\n",
        "\n",
        "# 재사용: extract_and_save_features.py 에서 정의한 함수들을 복붙해 주세요\n",
        "def get_feature_extractor(device='cuda'):\n",
        "    model = models.resnet18(pretrained=False)  # pretrained=True 로도 무방\n",
        "    modules = list(model.children())[:-1]\n",
        "    feat_extractor = nn.Sequential(*modules)\n",
        "    feat_extractor.eval()\n",
        "    feat_extractor.to(device)\n",
        "    return feat_extractor\n",
        "\n",
        "preprocess = transforms.Compose([\n",
        "    transforms.Resize(256),\n",
        "    transforms.CenterCrop(224),\n",
        "    transforms.ToTensor(),\n",
        "    transforms.Normalize([0.485,0.456,0.406], [0.229,0.224,0.225]),\n",
        "])\n",
        "\n",
        "def extract_feature(img_path, model, device='cuda'):\n",
        "    img = Image.open(img_path).convert('RGB')\n",
        "    x = preprocess(img).unsqueeze(0).to(device)\n",
        "    with torch.no_grad():\n",
        "        feat = model(x)\n",
        "        feat = feat.view(feat.size(0), -1)\n",
        "    return feat.cpu().numpy().squeeze()\n",
        "\n",
        "if __name__ == '__main__':\n",
        "    device = 'cuda' if torch.cuda.is_available() else 'cpu'\n",
        "    feat_model = get_feature_extractor(device)\n",
        "\n",
        "    # 1) DB features 불러오기\n",
        "    db_feats  = np.load('db_feats.npy')        # shape (N,512)\n",
        "    db_labels = joblib.load('db_labels.pkl')   # list of length N\n",
        "\n",
        "    # 2) KNN 분류기 학습 (Top-1) / 검색(Top-k)\n",
        "    knn = KNeighborsClassifier(n_neighbors=5, metric='cosine')  # cosine 거리 사용\n",
        "    knn.fit(db_feats, db_labels)\n",
        "\n",
        "    # 3) 챌린지 이미지 폴더 (예: 당일 공개된 100장)\n",
        "    test_dir = './drive/MyDrive/query'\n",
        "    results_top1 = []\n",
        "    results_top10 = []\n",
        "\n",
        "    for fn in tqdm(sorted(os.listdir(test_dir)), desc='Inferring'):\n",
        "        path = os.path.join(test_dir, fn)\n",
        "        qf = extract_feature(path, feat_model, device)  # (512,)\n",
        "\n",
        "        # Top-1 예측\n",
        "        pred1 = knn.predict(qf.reshape(1,-1))[0]\n",
        "        results_top1.append((fn, pred1))\n",
        "\n",
        "        # Top-10 검색 (메서드 제공 안될 경우 직접 거리 계산 후 추출 가능)\n",
        "        dists, idxs = knn.kneighbors(qf.reshape(1,-1), n_neighbors=10, return_distance=True)\n",
        "        top10 = [ db_labels[i] for i in idxs[0] ]\n",
        "        results_top10.append((fn, top10))\n",
        "\n",
        "    # 4) 결과 저장 또는 출력\n",
        "    with open('c2_t1_a1.csv', 'w') as f1, open('c2_t2_a1.csv', 'w') as f10:\n",
        "        import csv\n",
        "        w1 = csv.writer(f1)\n",
        "        w10 = csv.writer(f10)\n",
        "        for (fn,p1), (_,p10) in zip(results_top1, results_top10):\n",
        "            w1.writerow([fn, p1])\n",
        "            w10.writerow([fn] + p10)\n",
        "\n",
        "    print(\"Done. Outputs ▶ c2_t1_a1.csv, c2_t2_a1.csv\")\n"
      ],
      "metadata": {
        "colab": {
          "base_uri": "https://localhost:8080/"
        },
        "id": "ELur_CXq_7ES",
        "outputId": "b5fd4aac-49d5-400c-d6f6-0c9207fc7db7"
      },
      "execution_count": 34,
      "outputs": [
        {
          "output_type": "stream",
          "name": "stderr",
          "text": [
            "Inferring: 100%|██████████| 100/100 [00:08<00:00, 11.15it/s]"
          ]
        },
        {
          "output_type": "stream",
          "name": "stdout",
          "text": [
            "Done. Outputs ▶ c2_t1_a1.csv, c2_t2_a1.csv\n"
          ]
        },
        {
          "output_type": "stream",
          "name": "stderr",
          "text": [
            "\n"
          ]
        }
      ]
    },
    {
      "cell_type": "code",
      "source": [
        "import csv\n",
        "\n",
        "def eval_task1(path):\n",
        "    total = 0\n",
        "    correct = 0\n",
        "    with open(path, newline='', encoding='utf-8') as f:\n",
        "        reader = csv.reader(f)\n",
        "        for row in reader:\n",
        "            # row 예시: ['Bicycle/Bicycle (733).png', 'Bicycle']\n",
        "            total += 1\n",
        "            actual = row[0]\n",
        "            pred   = row[1]\n",
        "            if actual.startswith(pred):\n",
        "                correct += 1\n",
        "    acc = correct / total if total else 0\n",
        "    print(f\"Task-1 Top-1 Accuracy: {correct}/{total} = {acc:.4f}\")\n",
        "\n",
        "\n",
        "def eval_task2(path):\n",
        "    total_rows = 0\n",
        "    correct_items = 0\n",
        "    with open(path, newline='', encoding='utf-8') as f:\n",
        "        reader = csv.reader(f)\n",
        "        for row in reader:\n",
        "            # row 예시: ['Bicycle/Bicycle (416).png',\n",
        "            #           'Bicycle','Bus','Car',...,'Bicycle']\n",
        "            total_rows += 1\n",
        "            actual = row[0]\n",
        "            preds   = row[1]\n",
        "            # 이 행에서 실제 클래스와 일치하는 예측 항목 수\n",
        "            cnt = sum(1 for p in preds if actual.startswith(p))\n",
        "            correct_items += cnt\n",
        "    total_items = total_rows * 10\n",
        "    precision = correct_items / total_items if total_items else 0\n",
        "    print(f\"Task-2 Top-10 Precision: {correct_items}/{total_items} = {precision:.4f}\")\n",
        "\n",
        "\n",
        "if __name__ == \"__main__\":\n",
        "    eval_task1(\"c2_t1_a1.csv\")\n",
        "    eval_task2(\"c2_t2_a1.csv\")\n"
      ],
      "metadata": {
        "colab": {
          "base_uri": "https://localhost:8080/"
        },
        "id": "96umX8RlAy0d",
        "outputId": "ad132b1b-65af-4231-f908-91b42b834371"
      },
      "execution_count": 35,
      "outputs": [
        {
          "output_type": "stream",
          "name": "stdout",
          "text": [
            "Task-1 Top-1 Accuracy: 0/100 = 0.0000\n",
            "Task-2 Top-10 Precision: 0/1000 = 0.0000\n"
          ]
        }
      ]
    },
    {
      "cell_type": "code",
      "source": [
        "# extract_and_save_features.py\n",
        "\n",
        "import os\n",
        "import torch\n",
        "import torch.nn as nn\n",
        "from torchvision import models, transforms\n",
        "from PIL import Image\n",
        "import numpy as np\n",
        "import joblib\n",
        "from tqdm import tqdm\n",
        "\n",
        "# 1) Feature extractor 정의 (fine-tuned 모델 로드)\n",
        "def get_feature_extractor(model_path, device='cuda'):\n",
        "    # 1. 원래 구조대로 모델 생성 (pretrained=False!)\n",
        "    # If loading the entire model object, we don't need to recreate the model architecture here.\n",
        "    # Instead, we will load the entire saved model.\n",
        "    # model = models.resnet18(pretrained=False)\n",
        "    # # 2. 학습 당시 붙였던 fc 레이어 모양 그대로 복원\n",
        "    # num_ftrs = model.fc.in_features\n",
        "    # model.fc = nn.Linear(num_ftrs, NUM_CLASSES)\n",
        "\n",
        "    # 3. 저장해둔 체크포인트 로드 (entire model object)\n",
        "    # Explicitly set weights_only=False to load the full model object\n",
        "    model = torch.load(model_path, map_location=device, weights_only=False)\n",
        "\n",
        "    # 4. fc 바로 전까지 자르고 eval 모드로\n",
        "    # Make sure the loaded model is on the correct device before accessing children\n",
        "    model.to(device)\n",
        "    model.eval() # Set the model to evaluation mode\n",
        "\n",
        "    modules = list(model.children())[:-1]   # avgpool 까지\n",
        "    feat_extractor = nn.Sequential(*modules)\n",
        "    # Move the sequential model to device as well, although the original model is already moved\n",
        "    feat_extractor.to(device)\n",
        "    feat_extractor.eval() # Ensure the feature extractor is also in eval mode\n",
        "\n",
        "    return feat_extractor\n",
        "\n",
        "# 2) 이미지 전처리 정의\n",
        "preprocess = transforms.Compose([\n",
        "    transforms.Resize(256),\n",
        "    transforms.CenterCrop(224),\n",
        "    transforms.ToTensor(),\n",
        "    transforms.Normalize([0.485,0.456,0.406], [0.229,0.224,0.225]),\n",
        "])\n",
        "\n",
        "def extract_feature(img_path, model, device='cuda'):\n",
        "    img = Image.open(img_path).convert('RGB')\n",
        "    x = preprocess(img).unsqueeze(0).to(device)\n",
        "    with torch.no_grad():\n",
        "        feat = model(x)             # (1, 512, 1, 1)\n",
        "        feat = feat.view(feat.size(0), -1)  # (1, 512)\n",
        "    return feat.cpu().numpy().squeeze()   # (512,)\n",
        "\n",
        "\n",
        "if __name__ == '__main__':\n",
        "    device = 'cuda' if torch.cuda.is_available() else 'cpu'\n",
        "\n",
        "    # 학습 시 클래스 개수와 동일하게 세팅\n",
        "    # NUM_CLASSES is not needed here as we are loading the entire model\n",
        "    # NUM_CLASSES   = 10\n",
        "    MODEL_PATH    = 'resnet18_ft.pt'      # <-- fine-tuned 모델 파일\n",
        "    DATASET_DIR   = './recaptcha-dataset/Large'\n",
        "    CLASS_NAMES   = ['Bicycle','Bridge','Bus','Car',\n",
        "                     'Chimney','Crosswalk','Hydrant',\n",
        "                     'Motorcycle','Palm','Traffic Light']\n",
        "\n",
        "    # 1) fine-tuned 모델 불러와서 feature extractor 준비\n",
        "    # Pass the device to the function\n",
        "    feat_model = get_feature_extractor(MODEL_PATH, device)\n",
        "\n",
        "    all_feats = []\n",
        "    all_labels = []\n",
        "\n",
        "    # 2) 폴더별 순회하며 feature 추출\n",
        "    for cls in CLASS_NAMES:\n",
        "        folder = os.path.join(DATASET_DIR, cls)\n",
        "        for fname in tqdm(sorted(os.listdir(folder)), desc=f'Extracting {cls}'):\n",
        "            path = os.path.join(folder, fname)\n",
        "            # Pass the device to the feature extraction function\n",
        "            fv = extract_feature(path, feat_model, device)\n",
        "            all_feats.append(fv)\n",
        "            all_labels.append(cls)\n",
        "\n",
        "    # 3) 저장\n",
        "    feats_array = np.stack(all_feats, axis=0)\n",
        "    np.save('db_feats_recaptcha.npy', feats_array)\n",
        "    joblib.dump(all_labels, 'db_labels_recaptcha.pkl')\n",
        "\n",
        "    print(f'Saved features: db_feats_recaptcha.npy ({feats_array.shape}), db_labels_recaptcha.pkl ({len(all_labels)})')"
      ],
      "metadata": {
        "colab": {
          "base_uri": "https://localhost:8080/"
        },
        "id": "QHik8FC0_pQ7",
        "outputId": "dafc15bb-d47f-4504-b794-681a5263bde1"
      },
      "execution_count": 39,
      "outputs": [
        {
          "output_type": "stream",
          "name": "stderr",
          "text": [
            "Extracting Bicycle: 100%|██████████| 800/800 [00:04<00:00, 180.74it/s]\n",
            "Extracting Bridge: 100%|██████████| 553/553 [00:02<00:00, 184.61it/s]\n",
            "Extracting Bus: 100%|██████████| 1229/1229 [00:07<00:00, 163.44it/s]\n",
            "Extracting Car: 100%|██████████| 3578/3578 [00:20<00:00, 176.63it/s]\n",
            "Extracting Chimney: 100%|██████████| 56/56 [00:00<00:00, 185.56it/s]\n",
            "Extracting Crosswalk: 100%|██████████| 1260/1260 [00:07<00:00, 164.56it/s]\n",
            "Extracting Hydrant: 100%|██████████| 972/972 [00:05<00:00, 187.81it/s]\n",
            "Extracting Motorcycle: 100%|██████████| 101/101 [00:00<00:00, 177.10it/s]\n",
            "Extracting Palm: 100%|██████████| 932/932 [00:05<00:00, 158.69it/s]\n",
            "Extracting Traffic Light: 100%|██████████| 811/811 [00:04<00:00, 187.49it/s]"
          ]
        },
        {
          "output_type": "stream",
          "name": "stdout",
          "text": [
            "Saved features: db_feats_recaptcha.npy ((10292, 512)), db_labels_recaptcha.pkl (10292)\n"
          ]
        },
        {
          "output_type": "stream",
          "name": "stderr",
          "text": [
            "\n"
          ]
        }
      ]
    },
    {
      "cell_type": "code",
      "source": [
        "# extract_features.py\n",
        "\n",
        "import os\n",
        "import torch\n",
        "import torch.nn as nn\n",
        "from torchvision import models, transforms\n",
        "from PIL import Image\n",
        "import numpy as np\n",
        "import joblib\n",
        "from tqdm import tqdm\n",
        "\n",
        "# 설정\n",
        "MODEL_PATH  = 'resnet18.pt' # Assuming this is where the state dict is saved\n",
        "DATA_DIR    = './recaptcha-dataset/Large'\n",
        "CLASS_NAMES = ['Bicycle','Bridge','Bus','Car','Chimney',\n",
        "               'Crosswalk','Hydrant','Motorcycle','Palm','Traffic Light']\n",
        "DEVICE      = 'cuda' if torch.cuda.is_available() else 'cpu'\n",
        "\n",
        "# 1) Fine-tuned 모델 로드\n",
        "def load_model(path, device):\n",
        "    model = models.resnet18(pretrained=False)\n",
        "    num_ftrs = model.fc.in_features\n",
        "    model.fc = nn.Linear(num_ftrs, len(CLASS_NAMES))\n",
        "\n",
        "    # Load the state dictionary\n",
        "    state_dict = torch.load(path, map_location=device)\n",
        "\n",
        "    # Adjust keys if necessary (e.g., from 'fc.1' to 'fc')\n",
        "    new_state_dict = {}\n",
        "    for k, v in state_dict.items():\n",
        "        if 'fc.1.' in k:\n",
        "            new_key = k.replace('fc.1.', 'fc.')\n",
        "            new_state_dict[new_key] = v\n",
        "        else:\n",
        "            new_state_dict[k] = v\n",
        "\n",
        "    model.load_state_dict(new_state_dict)\n",
        "    model.to(device).eval()\n",
        "    return model\n",
        "\n",
        "# 2) Feature Extractor 만들기\n",
        "def make_extractor(model):\n",
        "    layers = list(model.children())[:-1]  # avgpool 바로 다음이 fc 이므로 그 전까지\n",
        "    feat_ext = nn.Sequential(*layers).to(DEVICE)\n",
        "    feat_ext.eval()\n",
        "    return feat_ext\n",
        "\n",
        "# 3) 전처리\n",
        "preprocess = transforms.Compose([\n",
        "    transforms.Resize(256),\n",
        "    transforms.CenterCrop(224),\n",
        "    transforms.ToTensor(),\n",
        "    transforms.Normalize([0.485,0.456,0.406],\n",
        "                         [0.229,0.224,0.225]),\n",
        "])\n",
        "\n",
        "def extract(img_path, extractor):\n",
        "    img = Image.open(img_path).convert('RGB')\n",
        "    x = preprocess(img).unsqueeze(0).to(DEVICE)\n",
        "    with torch.no_grad():\n",
        "        feat = extractor(x)              # (1,512,1,1)\n",
        "        feat = feat.view(feat.size(0), -1)  # (1,512)\n",
        "    return feat.cpu().numpy().squeeze()     # (512,)\n",
        "\n",
        "# if __name__ == '__main__':\n",
        "#     model      = load_model(MODEL_PATH, DEVICE)\n",
        "#     extractor  = make_extractor(model)\n",
        "\n",
        "#     feats, labels = [], []\n",
        "#     for cls in CLASS_NAMES:\n",
        "#         folder = os.path.join(DATA_DIR, cls)\n",
        "#         if not os.path.exists(folder):\n",
        "#             print(f\"Warning: Folder not found: {folder}. Skipping.\")\n",
        "#             continue\n",
        "#         for fname in tqdm(sorted(os.listdir(folder)), desc=cls):\n",
        "#             path = os.path.join(folder, fname)\n",
        "#             fv = extract(path, extractor)\n",
        "#             feats.append(fv)\n",
        "#             labels.append(cls)\n",
        "\n",
        "#     feats = np.stack(feats, axis=0)    # (N,512)\n",
        "#     np.save('db_feats_recaptcha.npy', feats)\n",
        "#     joblib.dump(labels, 'db_labels_recaptcha.pkl')\n",
        "#     print(f'Saved db_feats_recaptcha.npy ({feats.shape}), db_labels_recaptcha.pkl ({len(labels)})')"
      ],
      "metadata": {
        "id": "RBm0WpEMlBQ5"
      },
      "execution_count": 40,
      "outputs": []
    },
    {
      "cell_type": "code",
      "source": [
        "# knn_inference.py\n",
        "\n",
        "import numpy as np\n",
        "import joblib\n",
        "from sklearn.neighbors import KNeighborsClassifier\n",
        "import os\n",
        "import torch\n",
        "import torch.nn as nn\n",
        "from torchvision import models, transforms\n",
        "from PIL import Image\n",
        "import numpy as np\n",
        "import joblib\n",
        "from tqdm import tqdm\n",
        "import csv\n",
        "\n",
        "\n",
        "def main():\n",
        "  # 1) DB features & labels 로드\n",
        "  db_feats  = np.load('db_feats_recaptcha.npy')        # (N,512)\n",
        "  db_labels = joblib.load('db_labels_recaptcha.pkl')   # 길이 N\n",
        "\n",
        "  # 2) KNN 학습\n",
        "  knn = KNeighborsClassifier(n_neighbors=10, metric='cosine')\n",
        "  knn.fit(db_feats, db_labels)\n",
        "\n",
        "  # 3) Query 이미지들 feature 추출 (extract_features.py 의 extract 함수 사용)\n",
        "\n",
        "  # 동일 extractor 준비\n",
        "  model     = load_model('resnet18.pt', device='cpu')\n",
        "  extractor = make_extractor(model)\n",
        "\n",
        "  # 4) CSV 파일 오픈\n",
        "  out1 = open('c2_t1_a1.csv', 'w', newline='', encoding='utf-8')\n",
        "  out2 = open('c2_t2_a1.csv', 'w', newline='', encoding='utf-8')\n",
        "  writer1 = csv.writer(out1)\n",
        "  writer2 = csv.writer(out2)\n",
        "\n",
        "  # 5) query 폴der의 이미지 리스트\n",
        "  query_dir = './drive/MyDrive/query'\n",
        "  image_files = sorted([\n",
        "      f for f in os.listdir(query_dir)\n",
        "      if f.lower().endswith(('.png', '.jpg', '.jpeg', '.bmp'))\n",
        "  ])\n",
        "\n",
        "  # 6) 예측 & 저장\n",
        "  for fname in image_files:\n",
        "    img_path = os.path.join(query_dir, fname)\n",
        "    feat = extract(img_path, extractor)               # (D,)\n",
        "    # Top-1\n",
        "    top1 = knn.predict(feat.reshape(1, -1))[0]\n",
        "    writer1.writerow([fname, top1])\n",
        "\n",
        "    # Top-10 Retrieval\n",
        "    dists, idxs = knn.kneighbors(feat.reshape(1, -1), n_neighbors=10)\n",
        "    top10 = [db_labels[i] for i in idxs[0]]\n",
        "    writer2.writerow([fname] + top10)\n",
        "\n",
        "  # 7) 파일 닫기\n",
        "  out1.close()\n",
        "  out2.close()\n",
        "\n",
        "if __name__ == '__main__':\n",
        "    main()"
      ],
      "metadata": {
        "id": "jpaaWLTrlniR"
      },
      "execution_count": 42,
      "outputs": []
    }
  ],
  "metadata": {
    "accelerator": "GPU",
    "colab": {
      "gpuType": "T4",
      "provenance": [],
      "include_colab_link": true
    },
    "gpuClass": "standard",
    "kernelspec": {
      "display_name": "Python 3",
      "name": "python3"
    },
    "language_info": {
      "name": "python"
    }
  },
  "nbformat": 4,
  "nbformat_minor": 0
}